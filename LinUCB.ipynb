{
 "cells": [
  {
   "cell_type": "code",
   "execution_count": 1,
   "metadata": {
    "collapsed": false
   },
   "outputs": [
    {
     "ename": "IndentationError",
     "evalue": "expected an indented block (<ipython-input-1-495f192c378f>, line 16)",
     "output_type": "error",
     "traceback": [
      "\u001b[1;36m  File \u001b[1;32m\"<ipython-input-1-495f192c378f>\"\u001b[1;36m, line \u001b[1;32m16\u001b[0m\n\u001b[1;33m    A = A.append(sparse.eye(d, dtype=np.int8))\u001b[0m\n\u001b[1;37m    ^\u001b[0m\n\u001b[1;31mIndentationError\u001b[0m\u001b[1;31m:\u001b[0m expected an indented block\n"
     ]
    }
   ],
   "source": [
    "''' LinUCB ()\n",
    "# Input ======================================================\n",
    "alpha >=0 : parameter   \n",
    "t         : t th trails\n",
    "K         : number of machines(arms,bandits,articles)\n",
    "X         : article features (K*d, features dim = d) (datatype = list)\n",
    "'''\n",
    "# initialization\n",
    "import numpy as np\n",
    "from scipy import sparse\n",
    "import math\n",
    "d = len(X[0])  # dimension of features\n",
    "K = len(X)     # number of machines(arms,bandits,articles)\n",
    "A = []\n",
    "b = []\n",
    "ind_true = []\n",
    "for i in range(K):\n",
    "    A = A.append(sparse.eye(d, dtype=np.int8))\n",
    "    b = b.append(sparse.csr_matrix((d,1),dtype = np.int8))\n",
    "    \n",
    "    inner_LinUCB(alpha,t,d,K,X,A,b)\n",
    "    ind = P.index(max(P))\n",
    "    ind_true.append(ind)\n",
    "    A[ind] = A[ind] - A*X[ind]  \n",
    "\n",
    "def inner_LinUCB(alpha,t,d,K,X,A,b,ind)\n",
    "# inner training phase\n",
    "# first trail\n",
    "X = np.array(X)\n",
    "if t == 0\n",
    "\n",
    "    P = []\n",
    "    for ii in range(K):\n",
    "        P.append(np.dot(X[ii],X[ii])) \n",
    "else\n",
    "    P = []\n",
    "    for ii in range(K): \n",
    "        theta = A[ii]*b[ii]\n",
    "        P.append(np.dot(theta,X[ii])+ alpha*math.sqrt(X[ii]*A*X[ii].T))\n",
    "return P\n",
    "        "
   ]
  },
  {
   "cell_type": "code",
   "execution_count": null,
   "metadata": {
    "collapsed": true
   },
   "outputs": [],
   "source": []
  }
 ],
 "metadata": {
  "kernelspec": {
   "display_name": "Python 2",
   "language": "python",
   "name": "python2"
  },
  "language_info": {
   "codemirror_mode": {
    "name": "ipython",
    "version": 2
   },
   "file_extension": ".py",
   "mimetype": "text/x-python",
   "name": "python",
   "nbconvert_exporter": "python",
   "pygments_lexer": "ipython2",
   "version": "2.7.11"
  }
 },
 "nbformat": 4,
 "nbformat_minor": 0
}
