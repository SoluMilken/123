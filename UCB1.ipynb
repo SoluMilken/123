{
 "cells": [
  {
   "cell_type": "code",
   "execution_count": null,
   "metadata": {
    "collapsed": true
   },
   "outputs": [],
   "source": [
    "''' \n",
    "Multi-armed Bandit Problem\n",
    "Upper Confidence Bound 1 (UCB1)\n",
    "# Input ========================================================================\n",
    "T         : number of trails   \n",
    "K         : number of machines(arms,bandits,articles)\n",
    "r         : reward \n",
    "# Output ========================================================================\n",
    "selected machine in t th trail\n",
    "'''\n",
    "# initialization\n",
    "from scipy import sparse\n",
    "import random as rand\n",
    "import math\n",
    "counter = np.ones(K, dtype=np.int)\n",
    "icounter = np.ones(K, dtype=np.int)\n",
    "#accumulated_reward = np.zeros(K,dtype=np.int)\n",
    "\n",
    "# Play each mathine once\n",
    "accumulated_reward = r_vector # the reward of each machine @@\n",
    "\n",
    "for t in range(T):\n",
    "    P = (accumulated_reward*np.array([1./(t+1)]*K)) + math.sqrt(np.array([2*math.log(t+1)]*K)*icounter)\n",
    "    ind = P.index(max(P))\n",
    "    counter[ind] = counter[ind] + 1\n",
    "    icounter[ind] = 1./counter[ind]\n",
    "    \n",
    "    print ind"
   ]
  }
 ],
 "metadata": {
  "kernelspec": {
   "display_name": "Python 2",
   "language": "python",
   "name": "python2"
  },
  "language_info": {
   "codemirror_mode": {
    "name": "ipython",
    "version": 2
   },
   "file_extension": ".py",
   "mimetype": "text/x-python",
   "name": "python",
   "nbconvert_exporter": "python",
   "pygments_lexer": "ipython2",
   "version": "2.7.11"
  }
 },
 "nbformat": 4,
 "nbformat_minor": 0
}
